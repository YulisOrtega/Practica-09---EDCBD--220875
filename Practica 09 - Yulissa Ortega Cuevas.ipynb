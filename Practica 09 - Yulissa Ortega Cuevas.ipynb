{
 "cells": [
  {
   "cell_type": "markdown",
   "id": "42220e7b",
   "metadata": {},
   "source": [
    "# Práctica 09: Sistema de Recomendación Estilo Netflix\n",
    "\n",
    "**Creado por:** Yulissa Ortega Cuevas Matricula: 220875"
   ]
  },
  {
   "cell_type": "markdown",
   "id": "b749c53b-9f30-42cb-bcaa-9e4df0daa18c",
   "metadata": {},
   "source": [
    "**Asignatura:** Extracción de Conocimiento en Base de Datos "
   ]
  },
  {
   "cell_type": "markdown",
   "id": "21c20f49-a869-44a9-b22e-4d979445faaa",
   "metadata": {},
   "source": [
    " **PE:** Ingeniería en Desarrollo y Gestión de Software 9°B"
   ]
  },
  {
   "cell_type": "code",
   "execution_count": 1,
   "id": "4114996c",
   "metadata": {},
   "outputs": [],
   "source": [
    "# Importación de librerías necesarias\n",
    "import numpy as np\n",
    "import pandas as pd\n",
    "import matplotlib.pyplot as plt\n",
    "import seaborn as sns\n",
    "from scipy.sparse import csr_matrix\n",
    "from sklearn.neighbors import NearestNeighbors\n",
    "import warnings\n",
    "warnings.simplefilter(action='ignore', category=FutureWarning)"
   ]
  },
  {
   "cell_type": "markdown",
   "id": "186146eb",
   "metadata": {},
   "source": [
    "### Carga de datos"
   ]
  },
  {
   "cell_type": "code",
   "execution_count": 2,
   "id": "6c1a3ad5",
   "metadata": {},
   "outputs": [],
   "source": [
    "peliculas = pd.read_csv(\"movie.csv\")\n",
    "calificaciones = pd.read_csv(\"rating.csv\")"
   ]
  },
  {
   "cell_type": "markdown",
   "id": "82f23e0c",
   "metadata": {},
   "source": [
    "### Análisis básico de los datos"
   ]
  },
  {
   "cell_type": "code",
   "execution_count": 3,
   "id": "f7724de7",
   "metadata": {},
   "outputs": [
    {
     "name": "stdout",
     "output_type": "stream",
     "text": [
      "Número total de calificaciones: 20000263\n",
      "Películas únicas: 26744\n",
      "Usuarios únicos: 138493\n",
      "Promedio de calificaciones por usuario: 144.41\n",
      "Promedio de calificaciones por película: 747.84\n"
     ]
    }
   ],
   "source": [
    "total_calificaciones = len(calificaciones)\n",
    "total_peliculas = calificaciones['movieId'].nunique()\n",
    "total_usuarios = calificaciones['userId'].nunique()\n",
    "\n",
    "print(f\"Número total de calificaciones: {total_calificaciones}\")\n",
    "print(f\"Películas únicas: {total_peliculas}\")\n",
    "print(f\"Usuarios únicos: {total_usuarios}\")\n",
    "print(f\"Promedio de calificaciones por usuario: {round(total_calificaciones / total_usuarios, 2)}\")\n",
    "print(f\"Promedio de calificaciones por película: {round(total_calificaciones / total_peliculas, 2)}\")"
   ]
  },
  {
   "cell_type": "markdown",
   "id": "e163079f-2a09-496b-bacb-9a422a352108",
   "metadata": {},
   "source": [
    "### Frecuencia de calificaciones por usuario"
   ]
  },
  {
   "cell_type": "code",
   "execution_count": 11,
   "id": "4da2d318-5cf4-46bd-a07e-98ccffa34529",
   "metadata": {},
   "outputs": [
    {
     "data": {
      "text/html": [
       "<div>\n",
       "<style scoped>\n",
       "    .dataframe tbody tr th:only-of-type {\n",
       "        vertical-align: middle;\n",
       "    }\n",
       "\n",
       "    .dataframe tbody tr th {\n",
       "        vertical-align: top;\n",
       "    }\n",
       "\n",
       "    .dataframe thead th {\n",
       "        text-align: right;\n",
       "    }\n",
       "</style>\n",
       "<table border=\"1\" class=\"dataframe\">\n",
       "  <thead>\n",
       "    <tr style=\"text-align: right;\">\n",
       "      <th></th>\n",
       "      <th>usuarioId</th>\n",
       "      <th>n_calificaciones</th>\n",
       "    </tr>\n",
       "  </thead>\n",
       "  <tbody>\n",
       "    <tr>\n",
       "      <th>0</th>\n",
       "      <td>1</td>\n",
       "      <td>175</td>\n",
       "    </tr>\n",
       "    <tr>\n",
       "      <th>1</th>\n",
       "      <td>2</td>\n",
       "      <td>61</td>\n",
       "    </tr>\n",
       "    <tr>\n",
       "      <th>2</th>\n",
       "      <td>3</td>\n",
       "      <td>187</td>\n",
       "    </tr>\n",
       "    <tr>\n",
       "      <th>3</th>\n",
       "      <td>4</td>\n",
       "      <td>28</td>\n",
       "    </tr>\n",
       "    <tr>\n",
       "      <th>4</th>\n",
       "      <td>5</td>\n",
       "      <td>66</td>\n",
       "    </tr>\n",
       "  </tbody>\n",
       "</table>\n",
       "</div>"
      ],
      "text/plain": [
       "   usuarioId  n_calificaciones\n",
       "0          1               175\n",
       "1          2                61\n",
       "2          3               187\n",
       "3          4                28\n",
       "4          5                66"
      ]
     },
     "execution_count": 11,
     "metadata": {},
     "output_type": "execute_result"
    }
   ],
   "source": [
    "frecuencia_usuarios = calificaciones[['userId', 'movieId']].groupby('userId').count().reset_index()\n",
    "frecuencia_usuarios.columns = ['usuarioId', 'n_calificaciones']\n",
    "frecuencia_usuarios.head()"
   ]
  },
  {
   "cell_type": "markdown",
   "id": "e8270c89-e411-4f0b-afee-a1ae181840f8",
   "metadata": {},
   "source": [
    "### Histograma de calificaciones por usuario"
   ]
  },
  {
   "cell_type": "code",
   "execution_count": 21,
   "id": "544f1ffc-e31d-4ced-8b72-32590a0acc8b",
   "metadata": {},
   "outputs": [
    {
     "data": {
      "image/png": "[encoded data removed]",
      "text/plain": [
       "<Figure size 1000x600 with 1 Axes>"
      ]
     },
     "metadata": {},
     "output_type": "display_data"
    }
   ],
   "source": [
    "plt.figure(figsize=(10,6))\n",
    "frecuencia_usuarios['n_calificaciones'].hist(bins=50)\n",
    "plt.title('Distribución de calificaciones por usuario')\n",
    "plt.xlabel('Número de calificaciones')\n",
    "plt.ylabel('Cantidad de usuarios')\n",
    "plt.grid(False)\n",
    "plt.show()"
   ]
  },
  {
   "cell_type": "markdown",
   "id": "d1010b4b-90f2-41eb-bcf2-45d20fdb1cef",
   "metadata": {},
   "source": [
    "### Películas similares con sus puntuaciones promedio"
   ]
  },
  {
   "cell_type": "code",
   "execution_count": 30,
   "id": "c21c0c2e-3efa-4379-90e4-5a954969dd76",
   "metadata": {},
   "outputs": [],
   "source": [
    "class Recomendador:\n",
    "    def __init__(self):\n",
    "        # Simulamos un DataFrame de películas\n",
    "        self.peliculas = pd.DataFrame({\n",
    "            'movieId': [1, 2, 3, 4],\n",
    "            'title': ['Matrix', 'Inception', 'Interstellar', 'El Origen']\n",
    "        })\n",
    "        # Simulamos un DataFrame de calificaciones\n",
    "        self.calificaciones = pd.DataFrame({\n",
    "            'movieId': [1, 1, 2, 3, 3, 4, 4],\n",
    "            'rating': [5, 4.5, 4.7, 4.8, 4.9, 4.2, 4.3]\n",
    "        })\n",
    "        # Película base para mostrar recomendaciones similares\n",
    "        self.nombre_pelicula = \"Matrix\"\n",
    "\n",
    "    def mostrar_recomendaciones(self, lista_ids):\n",
    "        print(f\"\\n🎬 Recomendaciones similares a: {self.nombre_pelicula}\\n\")\n",
    "        print(f\"{'No.':<4} {'Título':<50} {'Promedio':>8}\")\n",
    "        print(\"-\" * 65)\n",
    "        for i, mid in enumerate(lista_ids):\n",
    "            titulo = self.peliculas[self.peliculas['movieId'] == mid]['title'].values[0]\n",
    "            promedio = self.calificaciones[self.calificaciones['movieId'] == mid]['rating'].mean()\n",
    "            print(f\"{i+1:<4} {titulo:<50} {promedio:>8.2f}\")"
   ]
  },
  {
   "cell_type": "code",
   "execution_count": 35,
   "id": "75e098f9-e12e-4798-afa6-cb2120b0b286",
   "metadata": {},
   "outputs": [
    {
     "name": "stdout",
     "output_type": "stream",
     "text": [
      "\n",
      "🎬 Recomendaciones similares a: Matrix\n",
      "\n",
      "No.  Título                                             Promedio\n",
      "-----------------------------------------------------------------\n",
      "1    Inception                                              4.70\n",
      "2    Interstellar                                           4.85\n",
      "3    El Origen                                              4.25\n"
     ]
    }
   ],
   "source": [
    "rec = Recomendador()\n",
    "rec.mostrar_recomendaciones([2, 3, 4])"
   ]
  },
  {
   "cell_type": "markdown",
   "id": "be7bd66f",
   "metadata": {},
   "source": [
    "### Películas mejor y peor calificadas"
   ]
  },
  {
   "cell_type": "code",
   "execution_count": 6,
   "id": "a3d9639d",
   "metadata": {},
   "outputs": [],
   "source": [
    "promedio_calificaciones = calificaciones.groupby('movieId')[['rating']].mean()"
   ]
  },
  {
   "cell_type": "markdown",
   "id": "5b0efdf3-dbc3-4e1d-8fab-102f3fb08ca5",
   "metadata": {},
   "source": [
    "### Peor película"
   ]
  },
  {
   "cell_type": "code",
   "execution_count": 22,
   "id": "0b92887d-05c7-4966-9524-512691a1ddc0",
   "metadata": {},
   "outputs": [
    {
     "data": {
      "text/html": [
       "<div>\n",
       "<style scoped>\n",
       "    .dataframe tbody tr th:only-of-type {\n",
       "        vertical-align: middle;\n",
       "    }\n",
       "\n",
       "    .dataframe tbody tr th {\n",
       "        vertical-align: top;\n",
       "    }\n",
       "\n",
       "    .dataframe thead th {\n",
       "        text-align: right;\n",
       "    }\n",
       "</style>\n",
       "<table border=\"1\" class=\"dataframe\">\n",
       "  <thead>\n",
       "    <tr style=\"text-align: right;\">\n",
       "      <th></th>\n",
       "      <th>movieId</th>\n",
       "      <th>title</th>\n",
       "      <th>genres</th>\n",
       "    </tr>\n",
       "  </thead>\n",
       "  <tbody>\n",
       "    <tr>\n",
       "      <th>5706</th>\n",
       "      <td>5805</td>\n",
       "      <td>Besotted (2001)</td>\n",
       "      <td>Drama</td>\n",
       "    </tr>\n",
       "  </tbody>\n",
       "</table>\n",
       "</div>"
      ],
      "text/plain": [
       "      movieId            title genres\n",
       "5706     5805  Besotted (2001)  Drama"
      ]
     },
     "execution_count": 22,
     "metadata": {},
     "output_type": "execute_result"
    }
   ],
   "source": [
    "peor_id = promedio_calificaciones['rating'].idxmin()\n",
    "peliculas[peliculas['movieId'] == peor_id]"
   ]
  },
  {
   "cell_type": "markdown",
   "id": "f8afe749-95c1-48a2-991b-fc63d957130d",
   "metadata": {},
   "source": [
    "### Mejor pelicula"
   ]
  },
  {
   "cell_type": "code",
   "execution_count": 25,
   "id": "d91e4657-e437-4a15-8517-d153dbcfec04",
   "metadata": {},
   "outputs": [
    {
     "data": {
      "text/html": [
       "<div>\n",
       "<style scoped>\n",
       "    .dataframe tbody tr th:only-of-type {\n",
       "        vertical-align: middle;\n",
       "    }\n",
       "\n",
       "    .dataframe tbody tr th {\n",
       "        vertical-align: top;\n",
       "    }\n",
       "\n",
       "    .dataframe thead th {\n",
       "        text-align: right;\n",
       "    }\n",
       "</style>\n",
       "<table border=\"1\" class=\"dataframe\">\n",
       "  <thead>\n",
       "    <tr style=\"text-align: right;\">\n",
       "      <th></th>\n",
       "      <th>movieId</th>\n",
       "      <th>title</th>\n",
       "      <th>genres</th>\n",
       "    </tr>\n",
       "  </thead>\n",
       "  <tbody>\n",
       "    <tr>\n",
       "      <th>9007</th>\n",
       "      <td>26718</td>\n",
       "      <td>Life On A String (Bian chang Bian Zou) (1991)</td>\n",
       "      <td>Adventure|Drama|Fantasy|Musical</td>\n",
       "    </tr>\n",
       "  </tbody>\n",
       "</table>\n",
       "</div>"
      ],
      "text/plain": [
       "      movieId                                          title  \\\n",
       "9007    26718  Life On A String (Bian chang Bian Zou) (1991)   \n",
       "\n",
       "                               genres  \n",
       "9007  Adventure|Drama|Fantasy|Musical  "
      ]
     },
     "execution_count": 25,
     "metadata": {},
     "output_type": "execute_result"
    }
   ],
   "source": [
    "mejor_id = promedio_calificaciones['rating'].idxmax()\n",
    "peliculas[peliculas['movieId'] == mejor_id]"
   ]
  },
  {
   "cell_type": "markdown",
   "id": "a610c79c-d7f0-4391-a512-ff9960288f2f",
   "metadata": {},
   "source": [
    "### Calificación promedio por película"
   ]
  },
  {
   "cell_type": "code",
   "execution_count": 12,
   "id": "b48370c2-ca3e-42e5-89a1-98bec47910b2",
   "metadata": {},
   "outputs": [],
   "source": [
    "promedio_por_pelicula = calificaciones.groupby('movieId')[['rating']].mean()"
   ]
  },
  {
   "cell_type": "code",
   "execution_count": 13,
   "id": "63f4c0a1-6591-4628-9f31-9ea3ecead3ce",
   "metadata": {},
   "outputs": [
    {
     "data": {
      "text/html": [
       "<div>\n",
       "<style scoped>\n",
       "    .dataframe tbody tr th:only-of-type {\n",
       "        vertical-align: middle;\n",
       "    }\n",
       "\n",
       "    .dataframe tbody tr th {\n",
       "        vertical-align: top;\n",
       "    }\n",
       "\n",
       "    .dataframe thead th {\n",
       "        text-align: right;\n",
       "    }\n",
       "</style>\n",
       "<table border=\"1\" class=\"dataframe\">\n",
       "  <thead>\n",
       "    <tr style=\"text-align: right;\">\n",
       "      <th></th>\n",
       "      <th>rating</th>\n",
       "    </tr>\n",
       "    <tr>\n",
       "      <th>movieId</th>\n",
       "      <th></th>\n",
       "    </tr>\n",
       "  </thead>\n",
       "  <tbody>\n",
       "    <tr>\n",
       "      <th>117630</th>\n",
       "      <td>0.5</td>\n",
       "    </tr>\n",
       "    <tr>\n",
       "      <th>94327</th>\n",
       "      <td>0.5</td>\n",
       "    </tr>\n",
       "    <tr>\n",
       "      <th>128675</th>\n",
       "      <td>0.5</td>\n",
       "    </tr>\n",
       "    <tr>\n",
       "      <th>101728</th>\n",
       "      <td>0.5</td>\n",
       "    </tr>\n",
       "    <tr>\n",
       "      <th>103769</th>\n",
       "      <td>0.5</td>\n",
       "    </tr>\n",
       "    <tr>\n",
       "      <th>...</th>\n",
       "      <td>...</td>\n",
       "    </tr>\n",
       "    <tr>\n",
       "      <th>121039</th>\n",
       "      <td>5.0</td>\n",
       "    </tr>\n",
       "    <tr>\n",
       "      <th>54326</th>\n",
       "      <td>5.0</td>\n",
       "    </tr>\n",
       "    <tr>\n",
       "      <th>130996</th>\n",
       "      <td>5.0</td>\n",
       "    </tr>\n",
       "    <tr>\n",
       "      <th>88488</th>\n",
       "      <td>5.0</td>\n",
       "    </tr>\n",
       "    <tr>\n",
       "      <th>117606</th>\n",
       "      <td>5.0</td>\n",
       "    </tr>\n",
       "  </tbody>\n",
       "</table>\n",
       "<p>26744 rows × 1 columns</p>\n",
       "</div>"
      ],
      "text/plain": [
       "         rating\n",
       "movieId        \n",
       "117630      0.5\n",
       "94327       0.5\n",
       "128675      0.5\n",
       "101728      0.5\n",
       "103769      0.5\n",
       "...         ...\n",
       "121039      5.0\n",
       "54326       5.0\n",
       "130996      5.0\n",
       "88488       5.0\n",
       "117606      5.0\n",
       "\n",
       "[26744 rows x 1 columns]"
      ]
     },
     "execution_count": 13,
     "metadata": {},
     "output_type": "execute_result"
    }
   ],
   "source": [
    "# Ordenar las películas por su calificación promedio (de menor a mayor)\n",
    "promedio_por_pelicula_ordenado = promedio_por_pelicula.sort_values(by='rating')\n",
    "promedio_por_pelicula_ordenado"
   ]
  },
  {
   "cell_type": "markdown",
   "id": "fcc1b418-dea0-4dc7-b77f-f387a9980a25",
   "metadata": {},
   "source": [
    "### Calificaciones que recibió la película mejor valorada "
   ]
  },
  {
   "cell_type": "code",
   "execution_count": 18,
   "id": "da3547c2-e832-43c8-97f5-d463dee71f4d",
   "metadata": {},
   "outputs": [
    {
     "data": {
      "text/html": [
       "<div>\n",
       "<style scoped>\n",
       "    .dataframe tbody tr th:only-of-type {\n",
       "        vertical-align: middle;\n",
       "    }\n",
       "\n",
       "    .dataframe tbody tr th {\n",
       "        vertical-align: top;\n",
       "    }\n",
       "\n",
       "    .dataframe thead th {\n",
       "        text-align: right;\n",
       "    }\n",
       "</style>\n",
       "<table border=\"1\" class=\"dataframe\">\n",
       "  <thead>\n",
       "    <tr style=\"text-align: right;\">\n",
       "      <th></th>\n",
       "      <th>userId</th>\n",
       "      <th>movieId</th>\n",
       "      <th>rating</th>\n",
       "      <th>timestamp</th>\n",
       "    </tr>\n",
       "  </thead>\n",
       "  <tbody>\n",
       "    <tr>\n",
       "      <th>11067861</th>\n",
       "      <td>76495</td>\n",
       "      <td>26718</td>\n",
       "      <td>5.0</td>\n",
       "      <td>2012-03-19 03:51:41</td>\n",
       "    </tr>\n",
       "  </tbody>\n",
       "</table>\n",
       "</div>"
      ],
      "text/plain": [
       "          userId  movieId  rating            timestamp\n",
       "11067861   76495    26718     5.0  2012-03-19 03:51:41"
      ]
     },
     "execution_count": 18,
     "metadata": {},
     "output_type": "execute_result"
    }
   ],
   "source": [
    "# Mostrar todas las calificaciones de la película mejor valorada\n",
    "calificaciones[calificaciones['movieId'] == mejor_id]"
   ]
  },
  {
   "cell_type": "markdown",
   "id": "a257a570-1320-43d2-b043-04292a2d61a9",
   "metadata": {},
   "source": [
    "### Calificaciones que recibió la película peor valorada "
   ]
  },
  {
   "cell_type": "code",
   "execution_count": 19,
   "id": "0426c4b1-dcf1-480a-a48a-2a89742879a5",
   "metadata": {},
   "outputs": [
    {
     "data": {
      "text/html": [
       "<div>\n",
       "<style scoped>\n",
       "    .dataframe tbody tr th:only-of-type {\n",
       "        vertical-align: middle;\n",
       "    }\n",
       "\n",
       "    .dataframe tbody tr th {\n",
       "        vertical-align: top;\n",
       "    }\n",
       "\n",
       "    .dataframe thead th {\n",
       "        text-align: right;\n",
       "    }\n",
       "</style>\n",
       "<table border=\"1\" class=\"dataframe\">\n",
       "  <thead>\n",
       "    <tr style=\"text-align: right;\">\n",
       "      <th></th>\n",
       "      <th>userId</th>\n",
       "      <th>movieId</th>\n",
       "      <th>rating</th>\n",
       "      <th>timestamp</th>\n",
       "    </tr>\n",
       "  </thead>\n",
       "  <tbody>\n",
       "    <tr>\n",
       "      <th>86776</th>\n",
       "      <td>612</td>\n",
       "      <td>5805</td>\n",
       "      <td>0.5</td>\n",
       "      <td>2007-07-20 22:46:31</td>\n",
       "    </tr>\n",
       "    <tr>\n",
       "      <th>11294303</th>\n",
       "      <td>78022</td>\n",
       "      <td>5805</td>\n",
       "      <td>0.5</td>\n",
       "      <td>2004-08-10 03:14:11</td>\n",
       "    </tr>\n",
       "  </tbody>\n",
       "</table>\n",
       "</div>"
      ],
      "text/plain": [
       "          userId  movieId  rating            timestamp\n",
       "86776        612     5805     0.5  2007-07-20 22:46:31\n",
       "11294303   78022     5805     0.5  2004-08-10 03:14:11"
      ]
     },
     "execution_count": 19,
     "metadata": {},
     "output_type": "execute_result"
    }
   ],
   "source": [
    "# Mostrar todas las calificaciones de la película peor valorada\n",
    "calificaciones[calificaciones['movieId'] == peor_id]"
   ]
  },
  {
   "cell_type": "markdown",
   "id": "cee06cfe",
   "metadata": {},
   "source": [
    "### Sistema de recomendación por similitud"
   ]
  },
  {
   "cell_type": "code",
   "execution_count": 9,
   "id": "4a42c821",
   "metadata": {},
   "outputs": [],
   "source": [
    "class RecomendadorPeliculas:\n",
    "    def __init__(self, nombre_pelicula='Toy', num_recomendaciones=10):\n",
    "        print(\"🔎 Buscando películas similares...\")\n",
    "\n",
    "        try:\n",
    "            self.calificaciones = calificaciones\n",
    "            self.peliculas = peliculas\n",
    "            self.nombre_pelicula = nombre_pelicula\n",
    "            self.num_recomendaciones = num_recomendaciones\n",
    "            self.id_pelicula = self.obtener_id_pelicula(nombre_pelicula)\n",
    "\n",
    "            self.matriz_crs, self.mapa_usuarios, self.mapa_peliculas, self.inverso_usuarios, self.inverso_peliculas = self.construir_matriz()\n",
    "            vecinos = self.predecir_similares(self.id_pelicula, self.matriz_crs, k=self.num_recomendaciones)\n",
    "            self.mostrar_recomendaciones(vecinos)\n",
    "            print(\"\\n✅ Recomendaciones completas.\")\n",
    "\n",
    "        except:\n",
    "            print(\"❌ No se encontró la película indicada.\")\n",
    "\n",
    "    def obtener_id_pelicula(self, nombre):\n",
    "        coincidencias = self.peliculas[self.peliculas['title'].str.contains(nombre, case=False, na=False)]\n",
    "        return coincidencias.iloc[0]['movieId']\n",
    "\n",
    "    def construir_matriz(self):\n",
    "        df = self.calificaciones\n",
    "        usuarios = df['userId'].unique()\n",
    "        peliculas = df['movieId'].unique()\n",
    "\n",
    "        mapa_usuarios = {u: i for i, u in enumerate(usuarios)}\n",
    "        mapa_peliculas = {m: i for i, m in enumerate(peliculas)}\n",
    "        inv_usuarios = {i: u for u, i in mapa_usuarios.items()}\n",
    "        inv_peliculas = {i: m for m, i in mapa_peliculas.items()}\n",
    "\n",
    "        filas = df['userId'].map(mapa_usuarios)\n",
    "        columnas = df['movieId'].map(mapa_peliculas)\n",
    "        datos = df['rating']\n",
    "\n",
    "        matriz = csr_matrix((datos, (filas, columnas)), shape=(len(usuarios), len(peliculas)))\n",
    "        return matriz, mapa_usuarios, mapa_peliculas, inv_usuarios, inv_peliculas\n",
    "\n",
    "    def predecir_similares(self, id_original, matriz, k=10):\n",
    "        modelo = NearestNeighbors(metric='cosine', algorithm='brute')\n",
    "        modelo.fit(matriz.T)\n",
    "\n",
    "        indice = self.mapa_peliculas[id_original]\n",
    "        distancias, indices = modelo.kneighbors(matriz.T[indice], n_neighbors=k+1)\n",
    "        return [self.inverso_peliculas[i] for i in indices.flatten()][1:]  # Excluye la original\n",
    "\n",
    "    def mostrar_recomendaciones(self, lista_ids):\n",
    "        print(\"\\n🎬 Recomendaciones similares a:\", self.nombre_pelicula)\n",
    "        for i, mid in enumerate(lista_ids):\n",
    "            titulo = self.peliculas[self.peliculas['movieId'] == mid]['title'].values[0]\n",
    "            print(f\"{i+1}. {titulo}\")"
   ]
  },
  {
   "cell_type": "markdown",
   "id": "6015626f",
   "metadata": {},
   "source": [
    "### Ejemplo de uso"
   ]
  },
  {
   "cell_type": "code",
   "execution_count": 10,
   "id": "9902272d",
   "metadata": {},
   "outputs": [
    {
     "name": "stdout",
     "output_type": "stream",
     "text": [
      "🔎 Buscando películas similares...\n",
      "\n",
      "🎬 Recomendaciones similares a: Matrix\n",
      "1. Lord of the Rings: The Fellowship of the Ring, The (2001)\n",
      "2. Fight Club (1999)\n",
      "3. Star Wars: Episode V - The Empire Strikes Back (1980)\n",
      "4. Sixth Sense, The (1999)\n",
      "5. Men in Black (a.k.a. MIB) (1997)\n",
      "\n",
      "✅ Recomendaciones completas.\n"
     ]
    }
   ],
   "source": [
    "sistema = RecomendadorPeliculas(nombre_pelicula='Matrix', num_recomendaciones=5)"
   ]
  },
  {
   "cell_type": "code",
   "execution_count": 20,
   "id": "93cfd550-ef7a-4c24-9c91-f819d64416cf",
   "metadata": {},
   "outputs": [
    {
     "name": "stdout",
     "output_type": "stream",
     "text": [
      "🔎 Buscando películas similares...\n",
      "\n",
      "🎬 Recomendaciones similares a: Besotted\n",
      "1. Love Forbidden (Défense d'aimer) (2002)\n",
      "2. Emerald Cowboy (2002)\n",
      "3. Legend of Leigh Bowery, The (2002)\n",
      "4. Thousand Clouds of Peace, A (Mil nubes de paz cercan el cielo, amor, jamás acabarás de ser amor) (2003)\n",
      "5. Luster (2002)\n",
      "\n",
      "✅ Recomendaciones completas.\n"
     ]
    }
   ],
   "source": [
    "sistema = RecomendadorPeliculas(nombre_pelicula='Besotted', num_recomendaciones=5)"
   ]
  }
 ],
 "metadata": {
  "kernelspec": {
   "display_name": "Python 3 (ipykernel)",
   "language": "python",
   "name": "python3"
  },
  "language_info": {
   "codemirror_mode": {
    "name": "ipython",
    "version": 3
   },
   "file_extension": ".py",
   "mimetype": "text/x-python",
   "name": "python",
   "nbconvert_exporter": "python",
   "pygments_lexer": "ipython3",
   "version": "3.11.5"
  }
 },
 "nbformat": 4,
 "nbformat_minor": 5
}
